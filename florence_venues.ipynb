{
 "cells": [
  {
   "cell_type": "code",
   "execution_count": 1,
   "metadata": {},
   "outputs": [],
   "source": [
    "import folium as fol\n",
    "import pandas as pd\n",
    "from folium.plugins import MarkerCluster"
   ]
  },
  {
   "cell_type": "code",
   "execution_count": 2,
   "metadata": {},
   "outputs": [],
   "source": [
    "#Instantiate a map object with the Florence coordinates\n",
    "m = fol.Map(location=[43.769871, 11.255576], zoom_start=13,tiles='cartodb positron')"
   ]
  },
  {
   "cell_type": "code",
   "execution_count": 3,
   "metadata": {},
   "outputs": [],
   "source": [
    "# Example function to insert decimal point since coordinates\n",
    "# are stored as integers in the Excel file\n",
    "# (e.g. 4326 instead of 43.26)\n",
    "def insert_decimal_point(s):\n",
    "    return float(s[:2] + '.' + s[2:])\n",
    "\n",
    "# Read the data\n",
    "df = pd.read_excel('florence_venues1.xlsx', sheet_name='Foglio2')\n",
    "\n",
    "# Apply the conversion\n",
    "df['latitude'] = df['latitude'].astype(str).apply(insert_decimal_point)\n",
    "df['longitude'] = df['longitude'].astype(str).apply(insert_decimal_point)\n"
   ]
  },
  {
   "cell_type": "code",
   "execution_count": 4,
   "metadata": {},
   "outputs": [],
   "source": [
    "def remove_seconds(s):\n",
    "    return s[:-3]\n",
    "\n",
    "df['wday_closing'] = df['wday_closing'].astype(str).apply(remove_seconds)\n",
    "df['wday_opening'] = df['wday_opening'].astype(str).apply(remove_seconds)\n",
    "df['wkd_closing'] = df['wkd_closing'].astype(str).apply(remove_seconds)\n",
    "df['wkd_opening'] = df['wkd_opening'].astype(str).apply(remove_seconds)\n"
   ]
  },
  {
   "cell_type": "code",
   "execution_count": 5,
   "metadata": {},
   "outputs": [
    {
     "data": {
      "text/plain": [
       "Index(['id', 'venue_name', 'venue_type', 'main_bus', 'venue_add_one',\n",
       "       'venue_add_two', 'venue_pcode', 'venue_web', 'venue_phone',\n",
       "       'venue_email', 'venue_fb', 'venue_tw', 'org_own', 'mger', 'mger_email',\n",
       "       'mger_phone', 'online_contact_form', 'follow_up', 'venue_city',\n",
       "       'venue_country', 'notes', 'std_sign_off', 'res_sign_off', 's_kick_id',\n",
       "       'latitude', 'longitude', 'constituency', 'wday_opening', 'wday_closing',\n",
       "       'wkd_opening', 'wkd_closing', 'show_opening', 'show_closing',\n",
       "       'variations', 'promoters', 'venue_capacity', 'outdoor_space',\n",
       "       'type_outdoor_space', 'Instagram', 'PRS Type', 'PRS Venue cat',\n",
       "       'Year Venue Opened', 'Year Venue Closed', 'Notes'],\n",
       "      dtype='object')"
      ]
     },
     "execution_count": 5,
     "metadata": {},
     "output_type": "execute_result"
    }
   ],
   "source": [
    "df.columns"
   ]
  },
  {
   "cell_type": "code",
   "execution_count": 6,
   "metadata": {},
   "outputs": [
    {
     "data": {
      "text/plain": [
       "array(['Social', 'Smallvenue', 'Bar, pub with music', 'Church', 'Rest',\n",
       "       'Outgreen', 'Arena', 'Stadium', 'hotelres', 'arts', 'smallclub',\n",
       "       'largeclub', 'medvenue', 'concert', 'social', 'rest', 'other',\n",
       "       'theatre', 'Concert', 'outurban', 'outgreen', 'multivenuefest',\n",
       "       'largevenue', 'arena', 'student'], dtype=object)"
      ]
     },
     "execution_count": 6,
     "metadata": {},
     "output_type": "execute_result"
    }
   ],
   "source": [
    "df['venue_type'].unique()"
   ]
  },
  {
   "cell_type": "code",
   "execution_count": 7,
   "metadata": {},
   "outputs": [],
   "source": [
    "folium_fa_icons = {\n",
    "    'Social': { 'icon': 'users', 'color': 'blue'},\n",
    "    'Smallvenue': { 'icon': 'building', 'color': 'green'},\n",
    "    'Bar, pub with music': { 'icon': 'music', 'color': 'purple'},\n",
    "    'Church': { 'icon': 'church', 'color': 'darkpurple'},\n",
    "    'Rest': { 'icon': 'bed', 'color': 'cadetblue'},\n",
    "    'Outgreen': { 'icon': 'tree', 'color': 'darkgreen'},\n",
    "    'Arena': { 'icon': 'bullhorn', 'color': 'orange'},\n",
    "    'Stadium': { 'icon': 'flag-checkered', 'color': 'red'},\n",
    "    'hotelres': { 'icon': 'hotel', 'color': 'beige'},\n",
    "    'arts': { 'icon': 'paint-brush', 'color': 'pink'},\n",
    "    'smallclub': { 'icon': 'glass-martini', 'color': 'lightblue'},\n",
    "    'largeclub': { 'icon': 'music', 'color': 'darkred'},\n",
    "    'medvenue': { 'icon': 'building', 'color': 'gray'},\n",
    "    'concert': { 'icon': 'microphone', 'color': 'black'}\n",
    "}\n"
   ]
  },
  {
   "cell_type": "code",
   "execution_count": 8,
   "metadata": {},
   "outputs": [],
   "source": [
    "folium_fa_icons.update({\n",
    "    'theatre': { 'icon': 'theater-masks', 'color': 'lightred'},\n",
    "    'Concert': { 'icon': 'microphone-alt', 'color': 'darkblue'},\n",
    "    'outurban': { 'icon': 'city', 'color': 'cadetblue'},\n",
    "    'outgreen': { 'icon': 'leaf', 'color': 'green'},\n",
    "    'multivenuefest': { 'icon': 'calendar-alt', 'color': 'orange'},\n",
    "    'largevenue': { 'icon': 'landmark', 'color': 'purple'},\n",
    "    'arena': { 'icon': 'dove', 'color': 'lightgreen'},\n",
    "    'student': { 'icon': 'graduation-cap', 'color': 'blue'},\n",
    "    'other': { 'icon': 'question', 'color': 'grey'},\n",
    "    'social': { 'icon': 'user-friends', 'color': 'lightblue'},\n",
    "    'rest': { 'icon': 'utensils', 'color': 'olive'}\n",
    "})\n"
   ]
  },
  {
   "cell_type": "code",
   "execution_count": 9,
   "metadata": {},
   "outputs": [
    {
     "name": "stderr",
     "output_type": "stream",
     "text": [
      "/var/folders/xd/tzsx5trj73g9l2y1d5slm_3r0000gn/T/ipykernel_2530/2454523008.py:40: UserWarning: color argument of Icon should be one of: {'darkgreen', 'pink', 'darkred', 'beige', 'blue', 'darkblue', 'gray', 'lightblue', 'lightgreen', 'lightred', 'darkpurple', 'green', 'cadetblue', 'orange', 'lightgray', 'white', 'purple', 'black', 'red'}.\n",
      "  icon=fol.Icon(color=get_icon(row['venue_type'])['color'],prefix='fa', icon=folium_fa_icons[row['venue_type']]['icon'])\n"
     ]
    }
   ],
   "source": [
    "def check_missing(value, default=\"N/A\"):\n",
    "    \"\"\"Return the value or a default string if the value is missing.\"\"\"\n",
    "    return value if pd.notna(value) else default\n",
    "    \n",
    "def get_icon(venue_type):\n",
    "    default_icon = {'icon': 'circle', 'color': 'gray'}  # Default vanilla icon\n",
    "    return folium_fa_icons.get(venue_type, default_icon)\n",
    "\n",
    "\n",
    "popup_template = \"\"\"\n",
    "<h4>{venue_name}</h4>\n",
    "{address}\n",
    "{postcode}\n",
    "{links}\n",
    "{phone}\n",
    "{venue_type}\n",
    "{capacity}\n",
    "<b>Opening times:</b><br>\n",
    "{weekdays}\n",
    "{weekends}\n",
    "\"\"\"\n",
    "marker_cluster = MarkerCluster().add_to(m)\n",
    "for index, row in df.iterrows():\n",
    "    popup_text = popup_template.format(\n",
    "        venue_name=check_missing(row['venue_name']),\n",
    "        address=f\"<b>Address:</b> {check_missing(row['venue_add_one'])} {check_missing(row['venue_add_two'])}<br>\",\n",
    "        postcode=f\"<b>Postcode:</b> {check_missing(row['venue_pcode'])}<br>\",\n",
    "        links=f\"<b>Links:</b> <a href='{check_missing(row['venue_web'])}'>Website</a> / <a href='{check_missing(row['venue_fb'])}'>Facebook</a> / <a href='{check_missing(row['Instagram'])}'>Instagram</a><br>\",\n",
    "        phone=f\"<b>Phone:</b> {check_missing(row['venue_phone'])}<br>\",\n",
    "        venue_type=f\"<b>Venue Type:</b> {check_missing(row['venue_type'])}<br>\",\n",
    "        capacity=f\"<b>Capacity:</b> {check_missing(row['venue_capacity'])}<br>\",\n",
    "        weekdays=f\"<b>Weekdays Opening:</b> {check_missing(row['wday_opening'])} - {check_missing(row['wday_closing'])}<br>\",\n",
    "        weekends=f\"<b>Weekends Opening:</b> {check_missing(row['wkd_opening'])} - {check_missing(row['wkd_closing'])}<br>\"\n",
    "    )\n",
    "    iframe = fol.IFrame(html=popup_text, width=250, height=250)\n",
    "    fol.Marker(\n",
    "        location=[row['latitude'], row['longitude']],\n",
    "        tooltip=row['venue_name'],\n",
    "        popup=fol.Popup(iframe, max_width=2650),\n",
    "        icon=fol.Icon(color=get_icon(row['venue_type'])['color'],prefix='fa', icon=folium_fa_icons[row['venue_type']]['icon'])\n",
    "    ).add_to(marker_cluster)\n"
   ]
  },
  {
   "cell_type": "code",
   "execution_count": 10,
   "metadata": {},
   "outputs": [],
   "source": [
    "m.save('florence_venues1.html')"
   ]
  }
 ],
 "metadata": {
  "kernelspec": {
   "display_name": "maps",
   "language": "python",
   "name": "python3"
  },
  "language_info": {
   "codemirror_mode": {
    "name": "ipython",
    "version": 3
   },
   "file_extension": ".py",
   "mimetype": "text/x-python",
   "name": "python",
   "nbconvert_exporter": "python",
   "pygments_lexer": "ipython3",
   "version": "3.12.1"
  }
 },
 "nbformat": 4,
 "nbformat_minor": 2
}
